{
 "cells": [
  {
   "cell_type": "code",
   "execution_count": 112,
   "id": "c97ab9e3",
   "metadata": {},
   "outputs": [],
   "source": [
    "# node\n",
    "class Node:\n",
    "    def __init__(self, data):\n",
    "        __slots__ = (\"data\", \"prev\", \"next\")\n",
    "        self.data = data\n",
    "        self.next = None\n",
    "        self.prev = None"
   ]
  },
  {
   "cell_type": "code",
   "execution_count": 113,
   "id": "9d94425b",
   "metadata": {},
   "outputs": [],
   "source": [
    "# doubly linked list\n",
    "class DLL:\n",
    "    def __init__(self):\n",
    "        self.head = Node(None)\n",
    "        self.tail = Node(None)\n",
    "        self.head.next = self.tail\n",
    "        self.tail.prev = self.head\n",
    "        self.sizeAttr = 0\n",
    "    \n",
    "    def first(self):\n",
    "        '''\n",
    "        gets first node\n",
    "        '''\n",
    "        if self.sizeAttr == 0:\n",
    "            print('empty!')\n",
    "            return None\n",
    "        else:\n",
    "            return self.head.next\n",
    "\n",
    "    def insertFirst(self, element):\n",
    "        '''\n",
    "        insert node at start\n",
    "        '''\n",
    "        newNode = Node(element)\n",
    "\n",
    "        # attatching shi\n",
    "        newNode.next = self.head.next\n",
    "        newNode.prev = self.head\n",
    "        \n",
    "        # changing old attachments\n",
    "        newNode.next.prev = newNode\n",
    "        self.head.next = newNode\n",
    "\n",
    "        self.sizeAttr += 1\n",
    "\n",
    "    def removeFirst(self):\n",
    "        '''\n",
    "        remove node at start\n",
    "        '''\n",
    "        if self.sizeAttr == 0:\n",
    "            print('empty!')\n",
    "            return None\n",
    "        \n",
    "        # didnt really remove but cant get to old node\n",
    "        removedNode = self.head.next\n",
    "\n",
    "        self.head.next = self.head.next.next\n",
    "        self.head.next.prev = self.head\n",
    "\n",
    "        self.sizeAttr -= 1\n",
    "\n",
    "        return removedNode\n",
    "    \n",
    "    def getNode(self, pos):\n",
    "        '''\n",
    "        gets the node at given position\n",
    "        '''\n",
    "        currNode = self.head\n",
    "        for _ in range(pos + 1):\n",
    "            currNode = currNode.next\n",
    "        return currNode\n",
    "    \n",
    "    def insertBefore(self, node, element):\n",
    "        '''\n",
    "        inserts node before given node\n",
    "        '''\n",
    "        newNode = Node(element)\n",
    "        \n",
    "        # attatching new node\n",
    "        newNode.next = node\n",
    "        newNode.prev = node.prev\n",
    "\n",
    "        # changing old assignments\n",
    "        node.prev = newNode\n",
    "        newNode.prev.next = newNode\n",
    "\n",
    "        self.sizeAttr += 1\n",
    "        return newNode\n",
    "    \n",
    "    def insertAfter(self, node, element):\n",
    "        ''' \n",
    "        inserts node after given node\n",
    "        '''\n",
    "        newNode = Node(element)\n",
    "\n",
    "        #attaching new node\n",
    "        newNode.next = node.next\n",
    "        newNode.prev = node\n",
    "\n",
    "        # changing old assignments\n",
    "        node.next = newNode\n",
    "        newNode.next.prev = newNode\n",
    "\n",
    "        self.sizeAttr += 1\n",
    "        return newNode\n",
    "    \n",
    "    def last(self):\n",
    "        ''' \n",
    "        gets last node\n",
    "        '''\n",
    "        if self.head.next == self.tail:\n",
    "            print('empty!')\n",
    "            return\n",
    "        else:\n",
    "            return self.tail.prev\n",
    "    \n",
    "    def before(self, node):\n",
    "        return node.prev\n",
    "    \n",
    "    def after(self, node):\n",
    "        return node.next\n",
    "    \n",
    "    def remove(self, node):\n",
    "        ''' \n",
    "        removes node\n",
    "        '''\n",
    "        node.prev.next = node.next\n",
    "        node.next.prev = node.prev\n",
    "        node.next = None\n",
    "        node.prev = None\n",
    "\n",
    "        self.sizeAttr -= 1\n",
    "        return node\n",
    "    \n",
    "    def size(self):\n",
    "        return self.sizeAttr\n",
    "    \n",
    "    def isEmpty(self):\n",
    "        if self.sizeAttr == 0:\n",
    "            return True\n",
    "        else:\n",
    "            return False\n",
    "\n"
   ]
  },
  {
   "cell_type": "code",
   "execution_count": 99,
   "id": "57945700",
   "metadata": {},
   "outputs": [],
   "source": [
    "exampleDLL = DLL()"
   ]
  },
  {
   "cell_type": "code",
   "execution_count": 100,
   "id": "2370bc11",
   "metadata": {},
   "outputs": [
    {
     "name": "stdout",
     "output_type": "stream",
     "text": [
      "empty!\n"
     ]
    }
   ],
   "source": [
    "exampleDLL.first()"
   ]
  },
  {
   "cell_type": "code",
   "execution_count": 101,
   "id": "4144af7e",
   "metadata": {},
   "outputs": [],
   "source": [
    "exampleDLL.insertFirst('third node')\n",
    "exampleDLL.insertFirst('second node')\n",
    "exampleDLL.insertFirst('first node')"
   ]
  },
  {
   "cell_type": "code",
   "execution_count": 102,
   "id": "76a7ee77",
   "metadata": {},
   "outputs": [
    {
     "data": {
      "text/plain": [
       "3"
      ]
     },
     "execution_count": 102,
     "metadata": {},
     "output_type": "execute_result"
    }
   ],
   "source": [
    "exampleDLL.size()"
   ]
  },
  {
   "cell_type": "code",
   "execution_count": 103,
   "id": "2edd6be7",
   "metadata": {},
   "outputs": [
    {
     "data": {
      "text/plain": [
       "'first node'"
      ]
     },
     "execution_count": 103,
     "metadata": {},
     "output_type": "execute_result"
    }
   ],
   "source": [
    "exampleDLL.first().data"
   ]
  },
  {
   "cell_type": "code",
   "execution_count": 104,
   "id": "dfb18936",
   "metadata": {},
   "outputs": [
    {
     "data": {
      "text/plain": [
       "'third node'"
      ]
     },
     "execution_count": 104,
     "metadata": {},
     "output_type": "execute_result"
    }
   ],
   "source": [
    "exampleDLL.last().data"
   ]
  },
  {
   "cell_type": "code",
   "execution_count": 105,
   "id": "229e2e0e",
   "metadata": {},
   "outputs": [
    {
     "data": {
      "text/plain": [
       "('first node', 'third node')"
      ]
     },
     "execution_count": 105,
     "metadata": {},
     "output_type": "execute_result"
    }
   ],
   "source": [
    "pos = exampleDLL.getNode(1)\n",
    "exampleDLL.before(pos).data, exampleDLL.after(pos).data"
   ]
  },
  {
   "cell_type": "code",
   "execution_count": 106,
   "id": "9a0858d5",
   "metadata": {},
   "outputs": [
    {
     "data": {
      "text/plain": [
       "<__main__.Node at 0x1103caa20>"
      ]
     },
     "execution_count": 106,
     "metadata": {},
     "output_type": "execute_result"
    }
   ],
   "source": [
    "pos = exampleDLL.getNode(0)\n",
    "exampleDLL.insertBefore(pos, 'zeroth node')\n",
    "\n",
    "pos = exampleDLL.getNode(3)\n",
    "exampleDLL.insertAfter(pos, 'fourth node')"
   ]
  },
  {
   "cell_type": "code",
   "execution_count": 109,
   "id": "7d0c8154",
   "metadata": {},
   "outputs": [
    {
     "data": {
      "text/plain": [
       "('third node', None)"
      ]
     },
     "execution_count": 109,
     "metadata": {},
     "output_type": "execute_result"
    }
   ],
   "source": [
    "pos = exampleDLL.getNode(4)\n",
    "exampleDLL.before(pos).data, exampleDLL.after(pos).data"
   ]
  },
  {
   "cell_type": "code",
   "execution_count": 110,
   "id": "8645fbcf",
   "metadata": {},
   "outputs": [
    {
     "name": "stdout",
     "output_type": "stream",
     "text": [
      "5\n",
      "4\n"
     ]
    }
   ],
   "source": [
    "print(exampleDLL.size())\n",
    "pos = exampleDLL.getNode(1)\n",
    "exampleDLL.remove(pos)\n",
    "print(exampleDLL.size())"
   ]
  },
  {
   "cell_type": "code",
   "execution_count": 111,
   "id": "a24debf7",
   "metadata": {},
   "outputs": [
    {
     "data": {
      "text/plain": [
       "('zeroth node', 'third node')"
      ]
     },
     "execution_count": 111,
     "metadata": {},
     "output_type": "execute_result"
    }
   ],
   "source": [
    "pos = exampleDLL.getNode(1)\n",
    "exampleDLL.before(pos).data, exampleDLL.after(pos).data"
   ]
  }
 ],
 "metadata": {
  "kernelspec": {
   "display_name": "base",
   "language": "python",
   "name": "python3"
  },
  "language_info": {
   "codemirror_mode": {
    "name": "ipython",
    "version": 3
   },
   "file_extension": ".py",
   "mimetype": "text/x-python",
   "name": "python",
   "nbconvert_exporter": "python",
   "pygments_lexer": "ipython3",
   "version": "3.12.7"
  }
 },
 "nbformat": 4,
 "nbformat_minor": 5
}
