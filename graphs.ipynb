{
 "cells": [
  {
   "cell_type": "markdown",
   "id": "fed8cfe3",
   "metadata": {},
   "source": [
    "### Edge list representation of graphs"
   ]
  },
  {
   "cell_type": "code",
   "execution_count": 142,
   "id": "8f1efd49",
   "metadata": {},
   "outputs": [],
   "source": [
    "class Vertex:\n",
    "    def __init__(self, name):\n",
    "        self.name = name\n",
    "    \n",
    "    def __repr__(self):\n",
    "        return f'Vertex({self.name})'\n",
    "\n",
    "class Edge:\n",
    "    def __init__(self, name, v1, v2):\n",
    "        self.vertices = (v1, v2)\n",
    "        self.name = name\n",
    "    \n",
    "    def __repr__(self):\n",
    "        return f'Edge({self.name})'\n",
    "\n",
    "class Graph:\n",
    "    def __init__(self):\n",
    "        self.vertices = []\n",
    "        self.edges = []\n",
    "    \n",
    "    def numVertices(self):\n",
    "        return len(self.vertices)\n",
    "    \n",
    "    def getVertices(self):\n",
    "        return self.vertices\n",
    "\n",
    "    def numEdges(self):\n",
    "        return len(self.edges)\n",
    "    \n",
    "    def getEdges(self):\n",
    "        return self.edges\n",
    "    \n",
    "    def insertVertex(self, name):\n",
    "        newVertex = Vertex(name)\n",
    "        self.vertices.append(newVertex)\n",
    "        return newVertex\n",
    "    \n",
    "    def insertEdge(self, name, v1, v2):\n",
    "        newEdge = Edge(name, v1, v2)\n",
    "        self.edges.append(newEdge)\n",
    "        return newEdge\n",
    "    \n",
    "    def getEdge(self, v1, v2):\n",
    "        for edge in self.edges:\n",
    "            vertices = edge.vertices\n",
    "            if v1 in vertices and v2 in vertices:\n",
    "                return edge\n",
    "        return None\n",
    "    \n",
    "    def endVertices(self, edge):\n",
    "        if edge not in self.edges:\n",
    "            return None\n",
    "        else:\n",
    "            return edge.vertices\n",
    "    \n",
    "    def incidentEdges(self, vertex):\n",
    "        incidentEdges = []\n",
    "        for edge in self.edges:\n",
    "            if vertex in edge.vertices:\n",
    "                incidentEdges.append(edge)\n",
    "        return incidentEdges\n",
    "    \n",
    "    def dfs(self, currVertex, visited=None):\n",
    "        if visited is None:\n",
    "            visited = set()\n",
    "        print(f'{currVertex} ->')\n",
    "        visited.add(currVertex)\n",
    "\n",
    "        for edge in self.incidentEdges(currVertex):\n",
    "            (v1, v2) = edge.vertices\n",
    "            neighbour = v1 if v2 is currVertex else v2\n",
    "            if neighbour not in visited:\n",
    "                self.dfs(neighbour, visited)\n",
    "            \n",
    "        return visited\n",
    "\n",
    "\n",
    "        "
   ]
  },
  {
   "cell_type": "code",
   "execution_count": 143,
   "id": "45dc1e71",
   "metadata": {},
   "outputs": [],
   "source": [
    "testGraph = Graph()"
   ]
  },
  {
   "cell_type": "code",
   "execution_count": 144,
   "id": "8d5546f1",
   "metadata": {},
   "outputs": [
    {
     "name": "stdout",
     "output_type": "stream",
     "text": [
      "0 []\n"
     ]
    }
   ],
   "source": [
    "print(\n",
    "    testGraph.numEdges(), \n",
    "    testGraph.getEdges()\n",
    ")"
   ]
  },
  {
   "cell_type": "code",
   "execution_count": 145,
   "id": "c57b1b36",
   "metadata": {},
   "outputs": [],
   "source": [
    "vertex_u = testGraph.insertVertex('u')\n",
    "vertex_v = testGraph.insertVertex('v')\n",
    "vertex_w = testGraph.insertVertex('w')\n",
    "vertex_z = testGraph.insertVertex('z')\n",
    "edge_e = testGraph.insertEdge('e', vertex_u, vertex_v)\n",
    "edge_f = testGraph.insertEdge('f', vertex_v, vertex_w)\n",
    "edge_g = testGraph.insertEdge('g', vertex_u, vertex_w)\n",
    "edge_h = testGraph.insertEdge('h', vertex_w, vertex_z)\n"
   ]
  },
  {
   "cell_type": "code",
   "execution_count": 146,
   "id": "a75b43d4",
   "metadata": {},
   "outputs": [
    {
     "name": "stdout",
     "output_type": "stream",
     "text": [
      "4 [Edge(e), Edge(f), Edge(g), Edge(h)] 4 [Vertex(u), Vertex(v), Vertex(w), Vertex(z)]\n"
     ]
    }
   ],
   "source": [
    "print(\n",
    "    testGraph.numEdges(), \n",
    "    testGraph.getEdges(), \n",
    "    testGraph.numVertices(), \n",
    "    testGraph.getVertices()\n",
    ")"
   ]
  },
  {
   "cell_type": "code",
   "execution_count": 147,
   "id": "3d703d61",
   "metadata": {},
   "outputs": [
    {
     "name": "stdout",
     "output_type": "stream",
     "text": [
      "Edge(g) (Vertex(u), Vertex(v))\n"
     ]
    }
   ],
   "source": [
    "print(\n",
    "    testGraph.getEdge(vertex_u, vertex_w), \n",
    "    testGraph.endVertices(edge_e)\n",
    "    )"
   ]
  },
  {
   "cell_type": "code",
   "execution_count": 148,
   "id": "5a529548",
   "metadata": {},
   "outputs": [
    {
     "name": "stdout",
     "output_type": "stream",
     "text": [
      "Vertex(u) ->\n",
      "Vertex(v) ->\n",
      "Vertex(w) ->\n",
      "Vertex(z) ->\n"
     ]
    },
    {
     "data": {
      "text/plain": [
       "{Vertex(u), Vertex(v), Vertex(w), Vertex(z)}"
      ]
     },
     "execution_count": 148,
     "metadata": {},
     "output_type": "execute_result"
    }
   ],
   "source": [
    "testGraph.dfs(vertex_u)"
   ]
  },
  {
   "cell_type": "markdown",
   "id": "d48a4d17",
   "metadata": {},
   "source": [
    "### Adjacency list representation of graphs"
   ]
  },
  {
   "cell_type": "code",
   "execution_count": 89,
   "id": "a0c4e5c0",
   "metadata": {},
   "outputs": [],
   "source": [
    "class Vertex:\n",
    "    def __init__(self, name):\n",
    "        self.name = name\n",
    "        self.edgeList = []\n",
    "\n",
    "    def __repr__(self):\n",
    "        return f'Vertex({self.name})'\n",
    "\n",
    "class Edge:\n",
    "    def __init__(self, name, v1, v2):\n",
    "        self.name = name\n",
    "        self.vertices = (v1, v2)\n",
    "        v1.edgeList.append(self)\n",
    "        v2.edgeList.append(self)\n",
    "    \n",
    "    def __repr__(self):\n",
    "        return f'Edge({self.name})'\n",
    "\n",
    "class Graph:\n",
    "    def __init__(self):\n",
    "        self.vertices = []\n",
    "        self.edges = []\n",
    "    \n",
    "    def numVertices(self):\n",
    "        return len(self.vertices)\n",
    "    \n",
    "    def getVertices(self):\n",
    "        return self.vertices\n",
    "\n",
    "    def numEdges(self):\n",
    "        return len(self.edges)\n",
    "    \n",
    "    def getEdges(self):\n",
    "        return self.edges\n",
    "    \n",
    "    def insertVertex(self, name):\n",
    "        newVertex = Vertex(name)\n",
    "        self.vertices.append(newVertex)\n",
    "        return newVertex\n",
    "    \n",
    "    def insertEdge(self, name, v1, v2):\n",
    "        newEdge = Edge(name, v1, v2)\n",
    "        self.edges.append(newEdge)\n",
    "        return newEdge\n",
    "    \n",
    "    def getEdge(self, v1, v2):\n",
    "        smaller = v1 if len(v1.edgeList) <= len(v2.edgeList) else v2\n",
    "        for edge in smaller.edgeList:\n",
    "            if (edge.vertices == (v1, v2)) or (edge.vertices == (v2, v1)):\n",
    "                return edge \n",
    "        return None\n",
    "    \n",
    "    def endVertices(self, edge):\n",
    "        return edge.vertices\n",
    "    \n",
    "    def removeVertex(self, vertex):\n",
    "        for edge in list(vertex.edgeList):\n",
    "            self.removeEdge(edge)\n",
    "        self.vertices.remove(vertex)\n",
    "        return vertex\n",
    "    \n",
    "    def removeEdge(self, edge):\n",
    "        (v1, v2) = edge.vertices\n",
    "        v1.edgeList.remove(edge)\n",
    "        v2.edgeList.remove(edge)\n",
    "        self.edges.remove(edge)\n",
    "        return edge\n",
    "    \n",
    "    def incidentEdges(self, v):\n",
    "        return v.edgeList"
   ]
  },
  {
   "cell_type": "code",
   "execution_count": 90,
   "id": "5a81568c",
   "metadata": {},
   "outputs": [],
   "source": [
    "G = Graph()"
   ]
  },
  {
   "cell_type": "code",
   "execution_count": 91,
   "id": "4e6ad397",
   "metadata": {},
   "outputs": [],
   "source": [
    "vertex_v = G.insertVertex('v')\n",
    "vertex_u = G.insertVertex('u')\n",
    "vertex_w = G.insertVertex('w')\n",
    "edge_a = G.insertEdge('a', vertex_v, vertex_u)\n",
    "edge_b = G.insertEdge('b', vertex_v, vertex_w)"
   ]
  },
  {
   "cell_type": "code",
   "execution_count": null,
   "id": "3b860e1f",
   "metadata": {},
   "outputs": [
    {
     "name": "stdout",
     "output_type": "stream",
     "text": [
      "[Edge(a), Edge(b)] [Vertex(v), Vertex(u), Vertex(w)] [Edge(a), Edge(b)] [Edge(b)] [Edge(a)] Edge(b)\n"
     ]
    }
   ],
   "source": [
    "print(\n",
    "    G.getEdges(), \n",
    "    G.getVertices(), \n",
    "    G.incidentEdges(vertex_v), \n",
    "    G.incidentEdges(vertex_w), \n",
    "    G.incidentEdges(vertex_u), \n",
    "    G.getEdge(vertex_w, vertex_v)\n",
    ")"
   ]
  },
  {
   "cell_type": "code",
   "execution_count": 97,
   "id": "416c1e43",
   "metadata": {},
   "outputs": [
    {
     "name": "stdout",
     "output_type": "stream",
     "text": [
      "Vertex(v) [] [Vertex(u), Vertex(w)]\n"
     ]
    }
   ],
   "source": [
    "print(\n",
    "    G.removeVertex(vertex_v),\n",
    "    G.getEdges(),\n",
    "    G.getVertices()\n",
    ")"
   ]
  },
  {
   "cell_type": "markdown",
   "id": "a2557716",
   "metadata": {},
   "source": [
    "### Adjacency matrix"
   ]
  },
  {
   "cell_type": "code",
   "execution_count": null,
   "id": "30f16251",
   "metadata": {},
   "outputs": [],
   "source": [
    "class Graph:\n",
    "    def __init__(self):\n",
    "        self.matrix = []\n",
    "        self.matrixDict = {}\n",
    "\n",
    "    # why is this O(n^2) time complexity??\n",
    "    def insertVertex(self, name):\n",
    "        # mapping name to index\n",
    "        index = len(self.matrix)\n",
    "        self.matrixDict[name] = index\n",
    "        # adding vertex\n",
    "        for row in self.matrix:\n",
    "            row.append(0)\n",
    "        self.matrix.append([0] * (index + 1))\n",
    "        return name\n",
    "    \n",
    "    def insertEdge(self, name, v1, v2):\n",
    "        v1_index = self.matrixDict[v1]\n",
    "        v2_index = self.matrixDict[v2]\n",
    "        self.matrix[v1_index][v2_index] = name\n",
    "        self.matrix[v2_index][v1_index] = name\n",
    "    \n",
    "    def numVertices(self):\n",
    "        return len(self.matrix)\n",
    "    \n",
    "    def getVertices(self):\n",
    "        return self.matrixDict.keys()\n",
    "    \n",
    "    def numEdges(self):\n",
    "        count = 0\n",
    "        n = len(self.matrix)\n",
    "        for i in range(n):\n",
    "            for j in range(i+1, n):\n",
    "                if self.matrix[i][j] != 0:\n",
    "                    count += 1\n",
    "        return count\n",
    "    \n",
    "    def getEdges(self):\n",
    "        edges = []\n",
    "        n = len(self.matrix)\n",
    "        for i in range(n):\n",
    "            for j in range(i+1, n):\n",
    "                if self.matrix[i][j] != 0:\n",
    "                    edges.append(self.matrix[i][j])\n",
    "        return edges\n",
    "    \n",
    "    def incidentEdges(self, v):\n",
    "        edges = []\n",
    "        v_index = self.matrixDict[v]\n",
    "        for edge in self.matrix[v_index]:\n",
    "            if edge != 0:\n",
    "                edges.append(edge)\n",
    "        return edges\n",
    "        \n",
    "    def getEdge(self, v1, v2):\n",
    "        v1_index = self.matrixDict[v1]\n",
    "        v2_index = self.matrixDict[v2]\n",
    "        return self.matrix[v1_index][v2_index]"
   ]
  },
  {
   "cell_type": "code",
   "execution_count": 136,
   "id": "9ea41236",
   "metadata": {},
   "outputs": [],
   "source": [
    "G = Graph()\n",
    "G.insertVertex('u')\n",
    "G.insertVertex('v')\n",
    "G.insertVertex('w')\n",
    "G.insertVertex('z')\n",
    "G.insertEdge('g', 'u', 'w')\n",
    "G.insertEdge('e', 'u', 'v')\n",
    "G.insertEdge('f', 'v', 'w')\n",
    "G.insertEdge('h', 'z', 'w')"
   ]
  },
  {
   "cell_type": "code",
   "execution_count": 137,
   "id": "3d1a6fb0",
   "metadata": {},
   "outputs": [
    {
     "name": "stdout",
     "output_type": "stream",
     "text": [
      "4 dict_keys(['u', 'v', 'w', 'z']) 4 ['e', 'g', 'f', 'h']\n"
     ]
    }
   ],
   "source": [
    "print(G.numVertices(),\n",
    "      G.getVertices(), \n",
    "      G.numEdges(), \n",
    "      G.getEdges()\n",
    ")"
   ]
  },
  {
   "cell_type": "code",
   "execution_count": 138,
   "id": "db845baf",
   "metadata": {},
   "outputs": [
    {
     "data": {
      "text/html": [
       "<div>\n",
       "<style scoped>\n",
       "    .dataframe tbody tr th:only-of-type {\n",
       "        vertical-align: middle;\n",
       "    }\n",
       "\n",
       "    .dataframe tbody tr th {\n",
       "        vertical-align: top;\n",
       "    }\n",
       "\n",
       "    .dataframe thead th {\n",
       "        text-align: right;\n",
       "    }\n",
       "</style>\n",
       "<table border=\"1\" class=\"dataframe\">\n",
       "  <thead>\n",
       "    <tr style=\"text-align: right;\">\n",
       "      <th></th>\n",
       "      <th>0</th>\n",
       "      <th>1</th>\n",
       "      <th>2</th>\n",
       "      <th>3</th>\n",
       "    </tr>\n",
       "  </thead>\n",
       "  <tbody>\n",
       "    <tr>\n",
       "      <th>0</th>\n",
       "      <td>0</td>\n",
       "      <td>e</td>\n",
       "      <td>g</td>\n",
       "      <td>0</td>\n",
       "    </tr>\n",
       "    <tr>\n",
       "      <th>1</th>\n",
       "      <td>e</td>\n",
       "      <td>0</td>\n",
       "      <td>f</td>\n",
       "      <td>0</td>\n",
       "    </tr>\n",
       "    <tr>\n",
       "      <th>2</th>\n",
       "      <td>g</td>\n",
       "      <td>f</td>\n",
       "      <td>0</td>\n",
       "      <td>h</td>\n",
       "    </tr>\n",
       "    <tr>\n",
       "      <th>3</th>\n",
       "      <td>0</td>\n",
       "      <td>0</td>\n",
       "      <td>h</td>\n",
       "      <td>0</td>\n",
       "    </tr>\n",
       "  </tbody>\n",
       "</table>\n",
       "</div>"
      ],
      "text/plain": [
       "   0  1  2  3\n",
       "0  0  e  g  0\n",
       "1  e  0  f  0\n",
       "2  g  f  0  h\n",
       "3  0  0  h  0"
      ]
     },
     "execution_count": 138,
     "metadata": {},
     "output_type": "execute_result"
    }
   ],
   "source": [
    "import pandas as pd\n",
    "pd.DataFrame(G.matrix)"
   ]
  },
  {
   "cell_type": "code",
   "execution_count": 139,
   "id": "ad286901",
   "metadata": {},
   "outputs": [
    {
     "name": "stdout",
     "output_type": "stream",
     "text": [
      "['e', 'g'] ['e', 'f'] ['g', 'f', 'h'] ['h']\n"
     ]
    }
   ],
   "source": [
    "print(\n",
    "    G.incidentEdges('u'), \n",
    "    G.incidentEdges('v'), \n",
    "    G.incidentEdges('w'), \n",
    "    G.incidentEdges('z')\n",
    ")"
   ]
  },
  {
   "cell_type": "code",
   "execution_count": 140,
   "id": "0c1768f0",
   "metadata": {},
   "outputs": [
    {
     "data": {
      "text/plain": [
       "'e'"
      ]
     },
     "execution_count": 140,
     "metadata": {},
     "output_type": "execute_result"
    }
   ],
   "source": [
    "G.getEdge('u', 'v')"
   ]
  },
  {
   "cell_type": "code",
   "execution_count": null,
   "id": "363b7484",
   "metadata": {},
   "outputs": [],
   "source": []
  }
 ],
 "metadata": {
  "kernelspec": {
   "display_name": "base",
   "language": "python",
   "name": "python3"
  },
  "language_info": {
   "codemirror_mode": {
    "name": "ipython",
    "version": 3
   },
   "file_extension": ".py",
   "mimetype": "text/x-python",
   "name": "python",
   "nbconvert_exporter": "python",
   "pygments_lexer": "ipython3",
   "version": "3.12.7"
  }
 },
 "nbformat": 4,
 "nbformat_minor": 5
}
